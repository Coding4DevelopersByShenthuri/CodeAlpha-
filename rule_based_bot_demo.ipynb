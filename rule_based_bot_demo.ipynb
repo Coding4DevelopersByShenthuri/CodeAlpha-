{
  "cells": [
    {
      "cell_type": "markdown",
      "metadata": {
        "id": "view-in-github",
        "colab_type": "text"
      },
      "source": [
        "<a href=\"https://colab.research.google.com/github/Coding4DevelopersByShenthuri/CodeAlpha-/blob/main/rule_based_bot_demo.ipynb\" target=\"_parent\"><img src=\"https://colab.research.google.com/assets/colab-badge.svg\" alt=\"Open In Colab\"/></a>"
      ]
    },
    {
      "cell_type": "code",
      "source": [
        "import re\n",
        "import random"
      ],
      "metadata": {
        "id": "7yQbSjwiKV5j"
      },
      "execution_count": null,
      "outputs": []
    },
    {
      "cell_type": "code",
      "source": [
        "class RuleBot:\n",
        "  ### Potential Negative Responses\n",
        "  negative_responses = (\"no\", \"nope\", \"nah\", \"not\", \"naw\", \"not a chance\", \"sorry\")\n",
        "  ### Exit conversation Keywords\n",
        "  exit_commands = (\"quit\", \"pause\", \"exit\", \"goodbye\", \"bye\", \"later\")\n",
        "  ### Random starter question\n",
        "  random_questions = (\n",
        "        \"Why are you here? \",\n",
        "        \"Are there many humans like you? \",\n",
        "        \"What do you consume for sustence? \",\n",
        "        \"Is there FreeCodeCamp life on this planet? \",\n",
        "        \"Does Earth have a leader? \",\n",
        "        \"What planets have you visited? \",\n",
        "        \"What technology do you have on this planet? \"\n",
        "    )\n",
        "\n",
        "  def __init__(self):\n",
        "        self.alienbabble = {'describe_planet_intent': r'.*\\s*your planet.*',\n",
        "                            'answer_why_intent': r'why\\sare.*',\n",
        "                            'about_FreeCodeCamp': r'.*\\s*FreeCodeCamp',\n",
        "                            'about_session': r'.*\\s*session'\n",
        "                            }\n",
        "\n",
        "  def greet(self):\n",
        "        self.name = input(\"What is your name?\\n\")\n",
        "        will_help = input(\n",
        "            f\"Hi {self.name}, Iam Rule-Bot. Will you help me learn about your planet?\\n\")\n",
        "        if will_help in self.negative_responses:\n",
        "            print(\"OK, have a nice Earth day!\")\n",
        "            return\n",
        "        self.chat()\n",
        "\n",
        "  def make_exit(self, reply):\n",
        "        for command in self.exit_commands:\n",
        "            if reply == command:\n",
        "                print(\"Okay, have a nice Earth day!\")\n",
        "                return True\n",
        "\n",
        "  def chat(self):\n",
        "        reply = input(random.choice(self.random_questions)).lower()\n",
        "        while not self.make_exit(reply):\n",
        "          reply = input(self.match_reply(reply))\n",
        "\n",
        "  def match_reply(self, reply):\n",
        "        for key, value in self.alienbabble.items():\n",
        "            intent = key\n",
        "            regex_pattern = value\n",
        "            found_match = re.match(regex_pattern, reply)\n",
        "            if found_match and intent == 'describe_planet_intent':\n",
        "                return self.describe_planet_intent()\n",
        "            elif found_match and intent == 'answer_why_intent':\n",
        "                return self.answer_why_intent == 'answer_why_intent'\n",
        "            elif found_match and intent == 'about_FreeCodeCamp':\n",
        "                return self.about_FreeCodeCamp()\n",
        "            elif found_match and intent == 'about_session':\n",
        "                return self.about_session()\n",
        "        if not found_match:\n",
        "            return self.no_match_intent()\n",
        "\n",
        "  def describe_planet_intent(self):\n",
        "        responses = (\"My planet is a utopia of diverse organises and species.\\n\",\n",
        "                     \"I heard the coffee is good\\n\")\n",
        "        return random.choice(responses)\n",
        "\n",
        "  def answer_why_intent(self):\n",
        "        responses = (\"I came in peace\\n\", \"I am here to collect data on your planet and its inhabitants\\n\",\n",
        "                     \"I heard the coffee is good\\n\")\n",
        "        return random.choice(responses)\n",
        "\n",
        "  def about_FreeCodeCamp(self):\n",
        "        responses = (\"FreeCodeCamp is world's largest professional educational company\\n\", \"FreeCodeCamp will make you learn concepts in the way never learn\\n\",\n",
        "                     \"FreeCodeCamp is where your career and skill grows\\n\")\n",
        "        return \"FreeCodeCamp is Great place to learn \\n\"\n",
        "\n",
        "  def about_session(self):\n",
        "        responses = ('Session is on 1st Sept 2024 \\n', 'Session was Cool!')\n",
        "        return random.choice(responses)\n",
        "\n",
        "  def no_match_intent(self):\n",
        "        responses = (\n",
        "        \"Please tell me more.\\n\", \"Tell me more!\\n\", \"Why do you say that?\\n\", \"I see. Can you elaborate?\\n\",\n",
        "        \"Interesting. Can you tell me more?\\n\", \"I see. How do you think?\\n\", \"Why?\\n\",\n",
        "        \"How do you think I feel you say that?\\n\")\n",
        "        return random.choice(responses)\n",
        "\n",
        "AlienBot = RuleBot()\n",
        "AlienBot.greet()\n",
        "\n",
        "\n",
        "\n"
      ],
      "metadata": {
        "colab": {
          "base_uri": "https://localhost:8080/"
        },
        "id": "3o7nf8e2Kds-",
        "outputId": "52bc2cf4-bd7b-4dcb-c77d-6eeb3a052f26"
      },
      "execution_count": null,
      "outputs": [
        {
          "output_type": "stream",
          "name": "stdout",
          "text": [
            "What is your name?\n",
            "Shenthuri\n",
            "Hi Shenthuri, Iam Rule-Bot. Will you help me learn about your planet?\n",
            "Yes\n",
            "Why are you here? Because I'm a human\n",
            "I see. How do you think?\n",
            "I have six senses\n",
            "Why do you say that?\n",
            "I don't know\n",
            "Please tell me more.\n",
            "tell me about FreeCodeCamp\n",
            "FreeCodeCamp is Great place to learn \n",
            "okay\n",
            "I see. How do you think?\n",
            "Nah\n",
            "Interesting. Can you tell me more?\n",
            "It's a great platform to self-learning\n",
            "Tell me more!\n",
            "quit\n",
            "Okay, have a nice Earth day!\n"
          ]
        }
      ]
    }
  ],
  "metadata": {
    "colab": {
      "provenance": [],
      "include_colab_link": true
    },
    "kernelspec": {
      "display_name": "Python 3",
      "name": "python3"
    }
  },
  "nbformat": 4,
  "nbformat_minor": 0
}